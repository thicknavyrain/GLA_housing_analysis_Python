{
 "cells": [
  {
   "cell_type": "markdown",
   "id": "a7b24b1c-c9a9-4cc7-b3f7-9aebd9c5b5ab",
   "metadata": {},
   "source": [
    "# Reproducing London Plan Annual Monitoring Report tables in Python\n",
    "\n",
    "Ricky Nathvani, April 2024\n",
    "\n",
    "## Introduction\n",
    "\n",
    "In May 2019, James Gleeson provided notebooks [on his GitHub](https://github.com/jgleeson/housing_analysis/blob/master/AMR_tables.md)\n",
    "demonstrating how to reproduce some of the tables in the London Plan Annual Monitoring Report (AMR) from the London Development Database (LDD) data published on the London Datastore. These notebooks, written in R, used the Greater London Authority's data on every housing development in London by borough, to show the number of 1 bedroom, 2 bedroom... etc builds stratified by tenure and by borough. In order to make this analysis accessible and usable by a wider segment of users (i.e. those better versed in Python than R) I have converted his analysis notebooks to Python. Note that although [more recent data are available](https://www.london.gov.uk/programmes-strategies/planning/implementing-london-plan/monitoring-london-plan), to ensure replicability of the original results, I have used the same sources as the [original notebooks](https://github.com/jgleeson/housing_analysis/blob/master/AMR_tables.md).\n",
    "\n",
    "## Setup\n",
    "\n",
    "Your Python environment may not have the `tabulate` library we will need to render the tables in nice, easy-to-read Markdown, in which case you will need to install it. We will also be using `pandas` for all of the data manipulating, which you can install with `pip install pandas` if needed."
   ]
  },
  {
   "cell_type": "code",
   "execution_count": 1,
   "id": "05f9eb71-44a6-4b33-8baf-47395503a17e",
   "metadata": {},
   "outputs": [
    {
     "name": "stdout",
     "output_type": "stream",
     "text": [
      "Requirement already satisfied: tabulate in /opt/conda/lib/python3.11/site-packages (0.9.0)\n"
     ]
    }
   ],
   "source": [
    "!pip install tabulate"
   ]
  },
  {
   "cell_type": "markdown",
   "id": "6124311d-1529-42c4-bd35-d3b3c98febf0",
   "metadata": {},
   "source": [
    "Now let's go ahead and import the necessary libraries. Assuming you are running the code in a Jupyter notebook, you can render Markdown directly as outputs using `IPython.display`."
   ]
  },
  {
   "cell_type": "code",
   "execution_count": 2,
   "id": "200b716d-3ee0-4552-9cb5-79013a365ea1",
   "metadata": {},
   "outputs": [],
   "source": [
    "import pandas as pd\n",
    "from tabulate import tabulate\n",
    "from IPython.display import Markdown"
   ]
  },
  {
   "cell_type": "markdown",
   "id": "54fff270-2147-4baa-bf17-33aaab47e63c",
   "metadata": {},
   "source": [
    "We will pull in the exact same data as the original analysis for comparability, which as of April 2024, is still accessible from the URL. This data specifically used the 'Unit level' sheet (which we select for using `sheet_name=1` when reading the xlsx file from the URL). To made the comparison with the original R code easier, I have also adopted the `unitc` name for the Dataframe."
   ]
  },
  {
   "cell_type": "code",
   "execution_count": 3,
   "id": "aacbef96-8d91-4925-8e32-1d647db81ec6",
   "metadata": {},
   "outputs": [],
   "source": [
    "unitc = pd.read_excel(\"https://data.london.gov.uk/download/london-plan-amr14-tables-and-data/ad929204-cbe9-4bb2-bed7-1c1d28d210c9/LDD%20-%20Housing%20Completions%20for%20AMR14.xlsx\", sheet_name=1)"
   ]
  },
  {
   "cell_type": "markdown",
   "id": "8d951a78-349c-4c5f-a294-56b5b6695398",
   "metadata": {},
   "source": [
    "The original R analysis, used the helpful `clean_names()` function to automatically sanitise the column headings so that they only consist of underscores and lower-case alphanumerical symbols. This doesn't exist in Python but we can achieve a similar outcome for this specific data by specifying lower-case letters and replacing spaces with underscores for consistent column handling."
   ]
  },
  {
   "cell_type": "code",
   "execution_count": 4,
   "id": "1751ee9e-1706-43a4-8388-3a2aeb1acfdc",
   "metadata": {},
   "outputs": [],
   "source": [
    "unitc.columns = unitc.columns.str.lower().str.replace(' ', '_')"
   ]
  },
  {
   "cell_type": "markdown",
   "id": "7bda668f-672f-484c-96a4-4ce33f575e2c",
   "metadata": {},
   "source": [
    "## Data preparation\n",
    "\n",
    "Following the original procedure, we'll first map the data, which contains the exact number of bedrooms (called \"beds\" for brevity in the analysis) that each new unit had, onto a reduced set of values, i.e. 1 bed, 2 bed, 3 bed, and 4+ beds like so:"
   ]
  },
  {
   "cell_type": "code",
   "execution_count": 5,
   "id": "a2b0ed36-69d6-4692-9afb-6f6b2fc2a730",
   "metadata": {},
   "outputs": [],
   "source": [
    "def bedrooms_topcode(x):\n",
    "    if x == 1:\n",
    "        return \"1 bed\"\n",
    "    elif x == 2:\n",
    "        return \"2 beds\"\n",
    "    elif x == 3:\n",
    "        return \"3 beds\"\n",
    "    else:\n",
    "        return \"4 beds or more\"\n",
    "\n",
    "unitc['bedrooms'] = unitc['number_of_bedrooms'].apply(bedrooms_topcode)"
   ]
  },
  {
   "cell_type": "markdown",
   "id": "9bec1b06-2307-4782-bd1b-68756af917f0",
   "metadata": {},
   "source": [
    "## Analysis\n",
    "\n",
    "### Table 3.8\n",
    "\n",
    "In the AMR, Table 3.8 showed the number of bedrooms by tenure. To match the order used in the AMR we first reorder the tenure variable like so:"
   ]
  },
  {
   "cell_type": "code",
   "execution_count": 6,
   "id": "01c4ddde-eff9-4165-827d-bed67eb0687c",
   "metadata": {},
   "outputs": [],
   "source": [
    "tenure_order = [\"Social Rented\", \"Intermediate\", \"Affordable Rent\", \"Market\"]\n",
    "unitc['unit_tenure'] = pd.Categorical(unitc['unit_tenure'], categories=tenure_order, ordered=True)"
   ]
  },
  {
   "cell_type": "markdown",
   "id": "6efbae7f-9a95-4eb9-80e5-3e6d5c4d11dc",
   "metadata": {},
   "source": [
    "Now we can create the table itself, filtering out null records and counting the number of 'proposed units' (see the original analysis [for details](https://github.com/jgleeson/housing_analysis/blob/master/AMR_tables.md)). Note that in `pandas`, there are differences in the function naming, e.g. `tally` from R is now `sum`."
   ]
  },
  {
   "cell_type": "code",
   "execution_count": 7,
   "id": "9abd524c-9df8-4946-a308-8e8f3a37f6c0",
   "metadata": {},
   "outputs": [],
   "source": [
    "table_3_8 = (\n",
    "    unitc[unitc['bedrooms'].notnull()]\n",
    "    .groupby(['bedrooms', 'unit_tenure'], observed=True)['proposed_units']\n",
    "    .sum()\n",
    "    .unstack('bedrooms')\n",
    "    .reindex(tenure_order)\n",
    "    .fillna(0)\n",
    "    .astype(int)\n",
    ")"
   ]
  },
  {
   "cell_type": "markdown",
   "id": "7d67ecb7-5ce7-4934-924f-2b000bbafbc2",
   "metadata": {},
   "source": [
    "Unlike R, I couldn't devise an elegant way to include the Total row in the initial table construction, but we can add that on separately like so:"
   ]
  },
  {
   "cell_type": "code",
   "execution_count": 8,
   "id": "bb4ee5f7-e6fa-4330-843b-3420b664142e",
   "metadata": {},
   "outputs": [],
   "source": [
    "total_row = pd.DataFrame(unitc[unitc['bedrooms'].notnull()].groupby('bedrooms', observed=True)['proposed_units'].sum()).T\n",
    "total_row.index = ['Total']\n",
    "table_3_8 = pd.concat([table_3_8, total_row])"
   ]
  },
  {
   "cell_type": "markdown",
   "id": "cb8307ab-6558-4b40-bb57-9b5f5354dc37",
   "metadata": {},
   "source": [
    "For added comparability with the original analysis, we can also tidy up the column headings."
   ]
  },
  {
   "cell_type": "code",
   "execution_count": 9,
   "id": "1c635f2e-da87-4532-ba1d-49b0649c798b",
   "metadata": {},
   "outputs": [],
   "source": [
    "table_3_8.index.name = 'Tenure'\n",
    "table_3_8.columns.name = None"
   ]
  },
  {
   "cell_type": "markdown",
   "id": "7f6524f5-3234-4f1d-9fbc-228ddd1c9af1",
   "metadata": {},
   "source": [
    "And now our table is ready! At this point, we could simply print out the table to the terminal, or save it as a CSV to use later or share with collaborators. However, we can render it neatly in-line in this analysis notebook by formatting it directly into Markdown with `tabulate`. Before that, we can also implement a step Jim was unable to do in R, which is adding in 1000's separators for readability, before we convert and display the table."
   ]
  },
  {
   "cell_type": "code",
   "execution_count": 10,
   "id": "367713b4-4b4a-4726-9ae2-7c72082e1046",
   "metadata": {},
   "outputs": [
    {
     "data": {
      "text/markdown": [
       "| Tenure          | 1 bed   | 2 beds   | 3 beds   | 4 beds or more   |\n",
       "|:----------------|:--------|:---------|:---------|:-----------------|\n",
       "| Social Rented   | 1,018   | 1,120    | 814      | 283              |\n",
       "| Intermediate    | 1,151   | 1,373    | 409      | 40               |\n",
       "| Affordable Rent | 586     | 840      | 481      | 213              |\n",
       "| Market          | 16,162  | 14,446   | 4,937    | 1,879            |\n",
       "| Total           | 18,917  | 17,779   | 6,641    | 2,415            |"
      ],
      "text/plain": [
       "<IPython.core.display.Markdown object>"
      ]
     },
     "execution_count": 10,
     "metadata": {},
     "output_type": "execute_result"
    }
   ],
   "source": [
    "## Uncomment these lines if you want to view the table in terminal, or save the table output to file.\n",
    "# print(\"Table 3.8:\")\n",
    "# print(table_3_8)\n",
    "# table_3_8.to_csv('London_plan_AMR_Table_3_8.csv')\n",
    "\n",
    "# Add comma separators for 1000s in each column\n",
    "formatted_table_3_8 = table_3_8.apply(lambda x: x.apply(lambda y: f\"{y:,}\"))\n",
    "\n",
    "from tabulate import tabulate\n",
    "markdown_table = tabulate(formatted_table_3_8.reset_index(), tablefmt=\"pipe\", headers=\"keys\", showindex=False)\n",
    "\n",
    "from IPython.display import Markdown\n",
    "Markdown(markdown_table)"
   ]
  },
  {
   "cell_type": "markdown",
   "id": "f7e73d01-719b-400a-8f78-4c42250657bf",
   "metadata": {},
   "source": [
    "### Table 3.9\n",
    "\n",
    "We can also produce Table 3.9, which shows Gross conventional completions by bedrooms and borough. Unlike the original R approach, I take a much more manual approach to formatting the final column into a % and for calculating the '% 3 or more' column, which, although inelagant, has the advantage that it achieve's Jim's original goal of presenting the final column rounded to the nearest whole number, rather than to 2 decimal places."
   ]
  },
  {
   "cell_type": "code",
   "execution_count": 11,
   "id": "e7e6c3a0-73d9-4695-bcb0-c0e0357ba9b8",
   "metadata": {
    "scrolled": true
   },
   "outputs": [],
   "source": [
    "table_3_9 = (\n",
    "    unitc[unitc['bedrooms'].notnull()]\n",
    "    .groupby(['borough', 'bedrooms'], observed=True)['proposed_units']\n",
    "    .sum()\n",
    "    .unstack('bedrooms')\n",
    "    .fillna(0)\n",
    "    .astype(int)\n",
    ")\n",
    "\n",
    "# Add a 'Total' column\n",
    "table_3_9['Total'] = table_3_9.sum(axis=1)\n",
    "\n",
    "# Add a '% 3 or more' column\n",
    "table_3_9['% 3 or more'] = ((table_3_9['3 beds'] + table_3_9['4 beds or more']) / table_3_9['Total'] * 100).round().astype(int).astype(str) + '%'\n",
    "\n",
    "total_row = table_3_9.sum(numeric_only=True).to_frame().T\n",
    "total_row['% 3 or more'] = ((total_row['3 beds'] + total_row['4 beds or more']) / total_row['Total'] * 100).round().astype(int).astype(str) + '%'\n",
    "total_row.index = ['Total']\n",
    "\n",
    "table_3_9 = pd.concat([table_3_9, total_row])"
   ]
  },
  {
   "cell_type": "markdown",
   "id": "ffc5cd62-68d8-4435-ad2b-6d734fd500d2",
   "metadata": {},
   "source": [
    "Again, we can tidy up the column headings for comparability:"
   ]
  },
  {
   "cell_type": "code",
   "execution_count": 12,
   "id": "7985a1b2-6908-4bde-add1-ef47d01c3d69",
   "metadata": {},
   "outputs": [],
   "source": [
    "table_3_9.index.name = 'Borough'\n",
    "table_3_9.columns.name = None"
   ]
  },
  {
   "cell_type": "markdown",
   "id": "6d21216c-9feb-41f9-a23d-fd4018278a7e",
   "metadata": {},
   "source": [
    "And finally, exactly as before we can either print the table out directly, save it to file or add the 1000's separator (except for the final column, which is in `string` format) and display it as easily readable Markdown as needed:"
   ]
  },
  {
   "cell_type": "code",
   "execution_count": 13,
   "id": "d5671fa5-4ffe-41c7-abb1-aed4fd362b4e",
   "metadata": {},
   "outputs": [
    {
     "data": {
      "text/markdown": [
       "| Borough                | 1 bed   | 2 beds   | 3 beds   | 4 beds or more   | Total   | % 3 or more   |\n",
       "|:-----------------------|:--------|:---------|:---------|:-----------------|:--------|:--------------|\n",
       "| Barking and Dagenham   | 139     | 241      | 168      | 53               | 601     | 37%           |\n",
       "| Barnet                 | 704     | 1,145    | 436      | 99               | 2,384   | 22%           |\n",
       "| Bexley                 | 159     | 355      | 151      | 176              | 841     | 39%           |\n",
       "| Brent                  | 654     | 653      | 148      | 23               | 1,478   | 12%           |\n",
       "| Bromley                | 428     | 391      | 133      | 83               | 1,035   | 21%           |\n",
       "| Camden                 | 601     | 534      | 134      | 38               | 1,307   | 13%           |\n",
       "| City of London         | 5       | 7        | 0        | 0                | 12      | 0%            |\n",
       "| Croydon                | 1,627   | 878      | 408      | 66               | 2,979   | 16%           |\n",
       "| Ealing                 | 652     | 645      | 205      | 64               | 1,566   | 17%           |\n",
       "| Enfield                | 462     | 289      | 175      | 96               | 1,022   | 27%           |\n",
       "| Greenwich              | 1,444   | 765      | 297      | 30               | 2,536   | 13%           |\n",
       "| Hackney                | 494     | 505      | 282      | 89               | 1,370   | 27%           |\n",
       "| Hammersmith and Fulham | 531     | 480      | 158      | 161              | 1,330   | 24%           |\n",
       "| Haringey               | 468     | 330      | 103      | 48               | 949     | 16%           |\n",
       "| Harrow                 | 259     | 314      | 94       | 59               | 726     | 21%           |\n",
       "| Havering               | 157     | 206      | 190      | 124              | 677     | 46%           |\n",
       "| Hillingdon             | 396     | 318      | 65       | 118              | 897     | 20%           |\n",
       "| Hounslow               | 696     | 362      | 114      | 10               | 1,182   | 10%           |\n",
       "| Islington              | 335     | 301      | 79       | 40               | 755     | 16%           |\n",
       "| Kensington and Chelsea | 156     | 85       | 77       | 77               | 395     | 39%           |\n",
       "| Kingston upon Thames   | 133     | 107      | 31       | 34               | 305     | 21%           |\n",
       "| Lambeth                | 790     | 571      | 198      | 58               | 1,617   | 16%           |\n",
       "| Lewisham               | 604     | 794      | 216      | 42               | 1,656   | 16%           |\n",
       "| Merton                 | 246     | 176      | 49       | 60               | 531     | 21%           |\n",
       "| Newham                 | 1,095   | 1,058    | 387      | 54               | 2,594   | 17%           |\n",
       "| Redbridge              | 403     | 277      | 81       | 60               | 821     | 17%           |\n",
       "| Richmond upon Thames   | 203     | 240      | 46       | 48               | 537     | 18%           |\n",
       "| Southwark              | 901     | 1,136    | 396      | 96               | 2,529   | 19%           |\n",
       "| Sutton                 | 379     | 299      | 25       | 20               | 723     | 6%            |\n",
       "| Tower Hamlets          | 2,159   | 1,962    | 832      | 171              | 5,124   | 20%           |\n",
       "| Waltham Forest         | 377     | 476      | 186      | 69               | 1,108   | 23%           |\n",
       "| Wandsworth             | 755     | 1,282    | 301      | 123              | 2,461   | 17%           |\n",
       "| Westminster            | 505     | 597      | 476      | 126              | 1,704   | 35%           |\n",
       "| Total                  | 18,917  | 17,779   | 6,641    | 2,415            | 45,752  | 20%           |"
      ],
      "text/plain": [
       "<IPython.core.display.Markdown object>"
      ]
     },
     "execution_count": 13,
     "metadata": {},
     "output_type": "execute_result"
    }
   ],
   "source": [
    "# print(\"\\nTable 3.9:\")\n",
    "# print(table_3_9)\n",
    "# table_3_9.to_csv('London_plan_AMR_Table_3_9.csv')\n",
    "\n",
    "formatted_table_3_9 = table_3_9.apply(lambda x: x.apply(lambda y: f\"{y:,}\") if x.name != '% 3 or more' else x)\n",
    "\n",
    "markdown_table_3_9 = tabulate(formatted_table_3_9.reset_index(), tablefmt=\"pipe\", headers=\"keys\", showindex=False)\n",
    "\n",
    "Markdown(markdown_table_3_9)"
   ]
  },
  {
   "cell_type": "code",
   "execution_count": null,
   "id": "5061b2d2-7003-4a0d-82e9-255d8786bf71",
   "metadata": {},
   "outputs": [],
   "source": []
  }
 ],
 "metadata": {
  "kernelspec": {
   "display_name": "Python 3 (ipykernel)",
   "language": "python",
   "name": "python3"
  },
  "language_info": {
   "codemirror_mode": {
    "name": "ipython",
    "version": 3
   },
   "file_extension": ".py",
   "mimetype": "text/x-python",
   "name": "python",
   "nbconvert_exporter": "python",
   "pygments_lexer": "ipython3",
   "version": "3.11.6"
  }
 },
 "nbformat": 4,
 "nbformat_minor": 5
}
